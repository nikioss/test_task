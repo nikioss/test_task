{
 "cells": [
  {
   "cell_type": "code",
   "execution_count": null,
   "id": "eddde5a5-1a94-416f-86ee-45afd85f6412",
   "metadata": {},
   "outputs": [],
   "source": [
    "import pandas as pd\n",
    "import os\n",
    "import numpy as np\n",
    "from datetime import timedelta\n",
    "import plotly.express as px\n",
    "import plotly.graph_objects as go\n",
    "from sklearn.metrics import r2_score, mean_absolute_percentage_error\n",
    "from statsmodels.tsa.statespace.sarimax import SARIMAX\n",
    "from statsmodels.tsa.stattools import adfuller, acf, pacf\n",
    "import ssl\n",
    "import itertools\n",
    "from datetime import timedelta\n",
    "import warnings\n",
    "warnings.filterwarnings(\"ignore\")\n",
    "\n",
    "from api_cals import vectorization_request, decoding_request\n",
    "\n",
    "\n",
    "ssl._create_default_https_context = ssl._create_stdlib_context\n",
    "\n",
    "\n",
    "df = pd.read_csv(r'C:\\Users\\ysx12\\Documents\\my-forecasting-project\\src\\data\\data.csv')\n",
    "\n",
    "df['datetime'] = pd.to_datetime(df['datetime'], errors='coerce')\n",
    "df['datetime'] = df['datetime'].dt.strftime('%Y-%m-%d %H:%M:%S')\n",
    "df = df.drop(columns=['Unnamed: 0'], errors='ignore')\n",
    "\n",
    "print(df.head(5))"
   ]
  },
  {
   "cell_type": "code",
   "execution_count": null,
   "id": "e1575ca2-8faa-4599-98c7-c15d48b0d5f6",
   "metadata": {},
   "outputs": [],
   "source": [
    "json_list_df = df.to_dict(orient='records')\n",
    "\n",
    "df_vectorized, min_val, max_val = vectorization_request(\n",
    "    col_time='datetime',\n",
    "    col_target=\"load_consumption\",\n",
    "    json_list_df=json_list_df\n",
    ")\n",
    "\n",
    "df_vectorized = df_vectorized.drop(columns=['Unnamed: 0'], errors='ignore')\n",
    "print(df_vectorized.head(5))"
   ]
  },
  {
   "cell_type": "code",
   "execution_count": null,
   "id": "3359f4dc-940b-468d-942a-55e3dfc33f88",
   "metadata": {},
   "outputs": [],
   "source": [
    "json_list_df = df_vectorized.to_dict(orient='records')\n",
    "df_decoding = decoding_request(\n",
    "    col_time='datetime',\n",
    "    col_target=\"load_consumption\",\n",
    "    json_list_norm_df=json_list_df,\n",
    "    min_val=min_val,\n",
    "    max_val=max_val\n",
    ")\n",
    "\n",
    "print(df_decoding.head(5))"
   ]
  },
  {
   "cell_type": "code",
   "execution_count": null,
   "id": "fd28c403-89e4-4c7c-832e-03f9c3e232df",
   "metadata": {},
   "outputs": [],
   "source": [
    "df_vectorized.info()"
   ]
  },
  {
   "cell_type": "code",
   "execution_count": null,
   "id": "468dc5ab-80d3-43af-9402-f5943438219a",
   "metadata": {},
   "outputs": [],
   "source": [
    "lag_acf = acf(df_vectorized['load_consumption'], nlags=100)\n",
    "\n",
    "# Строим график ACF с Plotly\n",
    "fig_acf = go.Figure()\n",
    "fig_acf.add_trace(go.Scatter(x=np.arange(len(lag_acf)), y=lag_acf, mode='lines+markers', name='ACF'))\n",
    "fig_acf.update_layout(\n",
    "    title='ACF (Автокорреляция)',\n",
    "    xaxis_title='Лаги',\n",
    "    yaxis_title='Корреляция',\n",
    "    template='plotly_dark'\n",
    ")\n",
    "\n",
    "# PACF\n",
    "lag_pacf = pacf(df_vectorized['load_consumption'], nlags=100)\n",
    "\n",
    "fig_pacf = go.Figure()\n",
    "fig_pacf.add_trace(go.Scatter(x=np.arange(len(lag_pacf)), y=lag_pacf, mode='lines+markers', name='PACF'))\n",
    "fig_pacf.update_layout(\n",
    "    title='PACF (Частичная автокорреляция)',\n",
    "    xaxis_title='Лаги',\n",
    "    yaxis_title='Корреляция',\n",
    "    template='plotly_dark'\n",
    ")\n",
    "\n",
    "fig_acf.show()\n",
    "fig_pacf.show()"
   ]
  },
  {
   "cell_type": "markdown",
   "id": "6ed734d3-b7b5-4cd6-baa9-b56c93f6a17e",
   "metadata": {},
   "source": [
    "Проведем проверку на выбросы"
   ]
  },
  {
   "cell_type": "code",
   "execution_count": null,
   "id": "91dbeec3-a878-44a9-912a-401ba7b89ebe",
   "metadata": {},
   "outputs": [],
   "source": [
    "# Ящик с усами\n",
    "fig_box = px.box(df_vectorized, y='load_consumption')\n",
    "fig_box.show()"
   ]
  },
  {
   "cell_type": "code",
   "execution_count": null,
   "id": "06f3dc80-78b8-4095-ad10-5d45aae899f5",
   "metadata": {},
   "outputs": [],
   "source": [
    "Q1 = df_vectorized['load_consumption'].quantile(0.25)\n",
    "Q3 = df_vectorized['load_consumption'].quantile(0.75)\n",
    "IQR = Q3 - Q1\n",
    "lower_bound = Q1 - 1.5 * IQR\n",
    "upper_bound = Q3 + 1.5 * IQR\n",
    "iqr_outliers = df_vectorized[(df_vectorized['load_consumption'] < lower_bound) | (df_vectorized['load_consumption'] > upper_bound)]\n",
    "print(f\"Найдено выбросов по IQR: {len(iqr_outliers)}\")\n"
   ]
  },
  {
   "cell_type": "code",
   "execution_count": null,
   "id": "07b7c5ab-b605-43df-89c5-45d9cb6576a8",
   "metadata": {},
   "outputs": [],
   "source": [
    "fig_iqr = go.Figure()\n",
    "fig_iqr.add_trace(go.Scatter(x=df_vectorized.index, y=df_vectorized['load_consumption'], mode='markers', name='Данные'))\n",
    "fig_iqr.add_trace(go.Scatter(x=iqr_outliers.index, y=iqr_outliers['load_consumption'],\n",
    "                             mode='markers', marker=dict(color='red'), name='Выбросы'))\n",
    "fig_iqr.update_layout(title=\"Выбросы по IQR\", xaxis_title=\"Индекс\", yaxis_title=\"Потребление\")\n",
    "fig_iqr.show()"
   ]
  },
  {
   "cell_type": "code",
   "execution_count": null,
   "id": "0ce35aa9-fa6b-429c-a807-ef3781a5733c",
   "metadata": {},
   "outputs": [],
   "source": [
    "#список external features\n",
    "exog_cols = [col for col in df_vectorized.columns if col not in ['datetime', 'load_consumption']]"
   ]
  },
  {
   "cell_type": "code",
   "execution_count": null,
   "id": "e1a827ef-ce4f-47f2-9481-efbf5721b8b7",
   "metadata": {},
   "outputs": [],
   "source": [
    "# ADF-тест\n",
    "print(adfuller(df['load_consumption']))"
   ]
  },
  {
   "cell_type": "markdown",
   "id": "bb886139-8847-4bf4-bd0b-99a23f845d42",
   "metadata": {},
   "source": [
    "Временной ряд стационарен, т.к p-value примерно = 0. Следовательно дифференцирования не нужно(параметр d=0)"
   ]
  },
  {
   "cell_type": "markdown",
   "id": "ee446f39-fa94-4fb2-b834-d43587f796c4",
   "metadata": {},
   "source": [
    "## Оценочный прогноз"
   ]
  },
  {
   "cell_type": "code",
   "execution_count": null,
   "id": "0f376373-b8a1-47ca-a6f2-8515dc2cc07c",
   "metadata": {},
   "outputs": [],
   "source": [
    "# Разделение данных\n",
    "df_train = df_vectorized.iloc[:-288].reset_index(drop=True)\n",
    "df_evaluate = df_vectorized.iloc[-288:].reset_index(drop=True)\n",
    "\n",
    "exog_train = df_train[exog_cols]\n",
    "exog_evaluate = df_evaluate[exog_cols]"
   ]
  },
  {
   "cell_type": "code",
   "execution_count": null,
   "id": "6779b1fc-8c2f-4318-b0c8-365c62fd6a2b",
   "metadata": {},
   "outputs": [],
   "source": [
    "model = SARIMAX(endog=df_train['load_consumption'],\n",
    "                exog=exog_train,\n",
    "                order=(2, 0, 3),\n",
    "                enforce_stationarity=False,\n",
    "                enforce_invertibility=False)"
   ]
  },
  {
   "cell_type": "markdown",
   "id": "f7f12c8f-0733-4073-a7fa-aa7c2460f0d7",
   "metadata": {},
   "source": [
    "```\n",
    "model = SARIMAX(endog=df_train['load_consumption'],\n",
    "                exog=exog_train,\n",
    "                order=(1, 0, 1),\n",
    "                seasonal_order = (1, 1, 1, 24),\n",
    "                enforce_stationarity=False,\n",
    "                enforce_invertibility=False)\n",
    "```"
   ]
  },
  {
   "cell_type": "markdown",
   "id": "fcd680c6-5cb0-4b17-a8c6-d29d81e1df3c",
   "metadata": {
    "scrolled": true
   },
   "source": [
    "```\n",
    "best_aic = float(\"inf\")\n",
    "best_p, best_q = 0, 0\n",
    "\n",
    "for p in range(4):\n",
    "    for q in range(4):\n",
    "        try:\n",
    "            model = SARIMAX(df_train['load_consumption'],\n",
    "                            exog=exog_train,\n",
    "                            order=(p, 0, q),\n",
    "                            enforce_stationarity=False,\n",
    "                            enforce_invertibility=False)\n",
    "            model_fit = model.fit(disp=False)\n",
    "            \n",
    "            if model_fit.aic < best_aic:\n",
    "                best_aic = model_fit.aic\n",
    "                best_p, best_q = p, q\n",
    "                best_model = model_fit\n",
    "        except:\n",
    "            pass\n",
    "\n",
    "print(f\"Лучшие параметры: p={best_p}, q={best_q}, AIC={best_aic:.2f}\")\n",
    "```"
   ]
  },
  {
   "cell_type": "markdown",
   "id": "02269da5-adaa-43af-8d73-d6570eca65b0",
   "metadata": {},
   "source": [
    "Лучшие параметры: p=2, q=3, AIC=-484203.64"
   ]
  },
  {
   "cell_type": "code",
   "execution_count": null,
   "id": "0c4a825b-82b6-47f8-ba15-c90f67ac1107",
   "metadata": {},
   "outputs": [],
   "source": [
    "model_fit = model.fit(\n",
    "    disp=True)"
   ]
  },
  {
   "cell_type": "markdown",
   "id": "159ddf0a-5e4f-483a-9045-ab3d4da61ede",
   "metadata": {},
   "source": [
    "```\n",
    "forecast_evaluate = best_model.predict(start=len(df_train), \n",
    "                                       end=len(df_train) + len(df_evaluate) - 1,\n",
    "                                       exog=exog_evaluate)\n",
    "mape = mean_absolute_percentage_error(df_evaluate['load_consumption'], forecast_evaluate) * 100\n",
    "r2 = r2_score(df_evaluate['load_consumption'], forecast_evaluate)\n",
    "\n",
    "print(f\"MAPE: {mape:.2f}%\")\n",
    "print(f\"R²: {r2:.4f}\")\n",
    "\n",
    "MAPE: 17.13%\n",
    "R²: 0.1379\n",
    "```"
   ]
  },
  {
   "cell_type": "code",
   "execution_count": null,
   "id": "d5c7eb60-2c4d-4368-832f-fe4515ab58a5",
   "metadata": {},
   "outputs": [],
   "source": [
    "forecast_evaluate = model_fit.predict(start=len(df_train), \n",
    "                                      end=len(df_train) + len(df_evaluate) - 1,\n",
    "                                      exog=exog_evaluate)\n",
    "\n",
    "# Вычисление метрик качества: MAPE и R²\n",
    "mape = mean_absolute_percentage_error(df_evaluate['load_consumption'], forecast_evaluate) * 100\n",
    "r2 = r2_score(df_evaluate['load_consumption'], forecast_evaluate)\n",
    "\n",
    "print(f\"Оценочный прогноз - MAPE: {mape:.2f}%\")\n",
    "print(f\"Оценочный прогноз - R²: {r2:.4f}\")"
   ]
  },
  {
   "cell_type": "code",
   "execution_count": null,
   "id": "41a07a38-122d-47ad-adce-11e647ad5411",
   "metadata": {},
   "outputs": [],
   "source": [
    "real_values = df_vectorized['load_consumption'][-288:].values\n",
    "exog_data = df_vectorized[exog_cols]\n",
    "\n",
    "exog_forecast = exog_data[-288:].values\n",
    "\n",
    "forecast_values = model_fit.forecast(steps=288, exog=exog_forecast)\n",
    "\n",
    "# График сравнительного прогноза\n",
    "fig_comparison = go.Figure()\n",
    "\n",
    "# Добавляем реальные значения\n",
    "fig_comparison.add_trace(go.Scatter(x=np.arange(len(real_values)), y=real_values, mode='lines', name='Реальные значения', line=dict(color='blue')))\n",
    "\n",
    "# Добавляем прогнозируемые значения\n",
    "fig_comparison.add_trace(go.Scatter(x=np.arange(len(forecast_values)), y=forecast_values, mode='lines', name='Прогнозируемые значения', line=dict(color='red', dash='dot')))\n",
    "\n",
    "fig_comparison.update_layout(\n",
    "    title='Сравнительный прогноз',\n",
    "    xaxis_title='Точки времени',\n",
    "    yaxis_title='Значение',\n",
    "    template='plotly_dark'\n",
    ")\n",
    "\n",
    "fig_comparison.show()"
   ]
  },
  {
   "cell_type": "markdown",
   "id": "c1ad05b9-b99a-4245-ae59-3b3cbe0d3292",
   "metadata": {},
   "source": [
    "Метрики модели получились средне удовлетворительными. На графике сравнительного прогноза можно заметить, что модель:\n",
    "- Недостаточно учитывает экстремальные значения\n",
    "- Возможно, пропускает сезонные паттерны\n",
    "- Общая тенденция к сглаживанию (\"запаздыванию\") прогноза\n",
    "В качесте улучшений модели можно предложить добавление сезонности, но за неимением вычислительной мощности это гипотеза не была проверена."
   ]
  },
  {
   "cell_type": "markdown",
   "id": "361d7c65-bd14-4f35-af51-2bdab5feb05a",
   "metadata": {},
   "source": [
    "## Реальный прогноз "
   ]
  },
  {
   "cell_type": "code",
   "execution_count": null,
   "id": "c237b58a-e0c7-4efc-89fd-de1107086f02",
   "metadata": {},
   "outputs": [],
   "source": [
    "df_vectorized['datetime'] = pd.to_datetime(df_vectorized['datetime'], format='%Y-%m-%dT%H:%M:%S')\n",
    "last_date = df_vectorized['datetime'].iloc[-1]\n",
    "\n",
    "freq = timedelta(minutes=5)\n",
    "\n",
    "# Создаём будущие временные метки (288 шагов вперёд)\n",
    "future_dates = [last_date + freq * (i + 1) for i in range(288)]\n",
    "future_df = pd.DataFrame({'datetime': future_dates})\n",
    "\n",
    "future_df['datetime'] = future_df['datetime'].dt.strftime('%Y-%m-%d %H:%M:%S')\n",
    "future_df['load_consumption'] = 0  # Заполняем target фиктивным значением\n",
    "\n",
    "# Векторизация будущих дат для получения экзогенных признаков\n",
    "future_json = future_df.to_dict(orient='records')\n",
    "df_future_vectorized, _, _ = vectorization_request(\n",
    "    col_time='datetime',\n",
    "    col_target=\"load_consumption\",\n",
    "    json_list_df=future_json\n",
    ")\n",
    "\n",
    "exog_future = df_future_vectorized[exog_cols]\n"
   ]
  },
  {
   "cell_type": "code",
   "execution_count": null,
   "id": "2efe6f01-171c-44a7-9f84-78d74f9df0b0",
   "metadata": {},
   "outputs": [],
   "source": [
    "df_vectorized = df_vectorized.drop(columns=['datetime'])\n",
    "exog_data = df_vectorized.drop(columns=['load_consumption'])"
   ]
  },
  {
   "cell_type": "code",
   "execution_count": null,
   "id": "7d5f1192-ee65-46b5-8f79-4ae8322e37f9",
   "metadata": {},
   "outputs": [],
   "source": [
    "model_full = SARIMAX(endog=df_vectorized['load_consumption'],\n",
    "                     exog=exog_data,\n",
    "                     order=(2, 0, 3),\n",
    "                     enforce_stationarity=False,\n",
    "                     enforce_invertibility=False)\n",
    "model_full_fit = model_full.fit(disp=False)"
   ]
  },
  {
   "cell_type": "code",
   "execution_count": null,
   "id": "cb204eae-4ec4-4fc2-b27d-2248f64e8315",
   "metadata": {},
   "outputs": [],
   "source": [
    "real_forecast = model_full_fit.forecast(steps=288, exog=exog_future)\n",
    "\n",
    "# График реального прогноза\n",
    "fig_forecast = go.Figure()\n",
    "fig_forecast.add_trace(go.Scatter(x=future_dates, y=real_forecast, mode='lines', name='Реальный прогноз', line=dict(color='green')))\n",
    "\n",
    "fig_forecast.update_layout(\n",
    "    title='Реальный прогноз ',\n",
    "    xaxis_title='Дата и время',\n",
    "    yaxis_title='load_consumption',\n",
    "    template='plotly_dark'\n",
    ")\n",
    "\n",
    "fig_forecast.show()"
   ]
  },
  {
   "cell_type": "markdown",
   "id": "c2c3bf52-21de-4ffe-a157-d8b939198785",
   "metadata": {},
   "source": [
    "В ходе работы были реализованы два типа прогнозов для временного ряда: оценочный (на исторических данных с метриками MAPE и R²) и реальный (на будущие периоды). В начале был проведен общий анализ данных, были построены графики для обнаружения выбросов, но в итоге было принято решение не избавляться от них, так как они несут в себе важную информацию. В качестве модели была выбрана SARIMAX с учетом экзогенных переменных, были подобраны оптимальные гиперпараметры p=2, d=0, q=3. Были получены метрики MAPE = 14.74% и R² = 0.3359. Необходимо учесть сезонность, так как она поможет учесть экстремальные значения и сезонные патерны, которые в данных присутсвуют."
   ]
  },
  {
   "cell_type": "code",
   "execution_count": null,
   "id": "3b72d1a2-b0c8-45a9-b1ca-82977f667ae3",
   "metadata": {},
   "outputs": [],
   "source": []
  }
 ],
 "metadata": {
  "kernelspec": {
   "display_name": "Python (PDM)",
   "language": "python",
   "name": "my-forecasting-project"
  },
  "language_info": {
   "codemirror_mode": {
    "name": "ipython",
    "version": 3
   },
   "file_extension": ".py",
   "mimetype": "text/x-python",
   "name": "python",
   "nbconvert_exporter": "python",
   "pygments_lexer": "ipython3",
   "version": "3.11.7"
  },
  "widgets": {
   "application/vnd.jupyter.widget-state+json": {
    "state": {},
    "version_major": 2,
    "version_minor": 0
   }
  }
 },
 "nbformat": 4,
 "nbformat_minor": 5
}
